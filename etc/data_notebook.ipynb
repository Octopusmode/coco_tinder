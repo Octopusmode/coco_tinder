{
 "cells": [
  {
   "cell_type": "markdown",
   "metadata": {},
   "source": [
    "# COCO2017"
   ]
  },
  {
   "cell_type": "code",
   "execution_count": 1,
   "metadata": {},
   "outputs": [],
   "source": [
    "import matplotlib\n",
    "matplotlib.use(\"module://ipympl.backend_nbagg\")\n",
    "\n",
    "DATA_DIR = \"/mnt/x/dataset/coco2017\"\n",
    "EXPORT_DIR = \"/mnt/x/dataset/coco_trucks\"\n",
    "\n",
    "safe_trigger = True"
   ]
  },
  {
   "cell_type": "code",
   "execution_count": 7,
   "metadata": {},
   "outputs": [],
   "source": [
    "import fiftyone as fo\n",
    "import fiftyone.zoo as foz\n",
    "from fiftyone import ViewField as F"
   ]
  },
  {
   "cell_type": "code",
   "execution_count": null,
   "metadata": {},
   "outputs": [],
   "source": [
    "if not safe_trigger:\n",
    "    datset = foz.load_zoo_dataset(\n",
    "        \"coco-2017\",\n",
    "        splits=[\"train\", \"validation\"],\n",
    "        dataset_dir=DATA_DIR,\n",
    "    )\n",
    "\n",
    "safe_trigger = True"
   ]
  },
  {
   "cell_type": "code",
   "execution_count": 20,
   "metadata": {},
   "outputs": [],
   "source": [
    "# Делаем view на датасет только для инстансов класса \"truck\", \"van\"\n",
    "target_classes = [\"truck\"]\n",
    "view = datset.filter_labels(\"ground_truth\", F(\"label\").is_in(target_classes))"
   ]
  },
  {
   "cell_type": "code",
   "execution_count": 16,
   "metadata": {},
   "outputs": [
    {
     "data": {
      "text/html": [
       "\n",
       "        <iframe\n",
       "            width=\"100%\"\n",
       "            height=\"800\"\n",
       "            src=\"http://localhost:5151/?notebook=True&subscription=7e0ee84f-0841-4fe2-814f-a694e0212350\"\n",
       "            frameborder=\"0\"\n",
       "            allowfullscreen\n",
       "            \n",
       "        ></iframe>\n",
       "        "
      ],
      "text/plain": [
       "<IPython.lib.display.IFrame at 0x7f1b9baf9b50>"
      ]
     },
     "metadata": {},
     "output_type": "display_data"
    }
   ],
   "source": [
    "session = fo.launch_app(view=view)"
   ]
  },
  {
   "cell_type": "code",
   "execution_count": 36,
   "metadata": {},
   "outputs": [],
   "source": [
    "%matplotlib inline\n",
    "from pycocotools.coco import COCO\n",
    "import numpy as np\n",
    "import skimage.io as io\n",
    "import matplotlib.pyplot as plt\n",
    "from pprint import pprint"
   ]
  },
  {
   "cell_type": "code",
   "execution_count": 30,
   "metadata": {},
   "outputs": [],
   "source": [
    "dataDir = \"/mnt/x/dataset/coco2017\"\n",
    "dataType = \"train2017\"\n",
    "annFile = \"{}/raw/instances_{}.json\".format(dataDir, dataType)"
   ]
  },
  {
   "cell_type": "code",
   "execution_count": 31,
   "metadata": {},
   "outputs": [
    {
     "name": "stdout",
     "output_type": "stream",
     "text": [
      "loading annotations into memory...\n",
      "Done (t=11.53s)\n",
      "creating index...\n",
      "index created!\n"
     ]
    }
   ],
   "source": [
    "coco=COCO(annFile)"
   ]
  },
  {
   "cell_type": "code",
   "execution_count": 40,
   "metadata": {},
   "outputs": [
    {
     "name": "stdout",
     "output_type": "stream",
     "text": [
      "{'area': 2765.1486500000005,\n",
      " 'bbox': [199.84, 200.46, 77.71, 70.88],\n",
      " 'category_id': 58,\n",
      " 'id': 156,\n",
      " 'image_id': 558840,\n",
      " 'iscrowd': 0,\n",
      " 'segmentation': [[239.97,\n",
      "                   260.24,\n",
      "                   222.04,\n",
      "                   270.49,\n",
      "                   199.84,\n",
      "                   253.41,\n",
      "                   213.5,\n",
      "                   227.79,\n",
      "                   259.62,\n",
      "                   200.46,\n",
      "                   274.13,\n",
      "                   202.17,\n",
      "                   277.55,\n",
      "                   210.71,\n",
      "                   249.37,\n",
      "                   253.41,\n",
      "                   237.41,\n",
      "                   264.51,\n",
      "                   242.54,\n",
      "                   261.95,\n",
      "                   228.87,\n",
      "                   271.34]]}\n"
     ]
    }
   ],
   "source": [
    "from pprint import pprint\n",
    "\n",
    "for key in coco.anns.keys():\n",
    "    pprint(coco.anns[key])\n",
    "    break"
   ]
  },
  {
   "cell_type": "code",
   "execution_count": 66,
   "metadata": {},
   "outputs": [
    {
     "name": "stdout",
     "output_type": "stream",
     "text": [
      "6127\n"
     ]
    }
   ],
   "source": [
    "catIds = coco.getCatIds(catNms=[\"truck\"])\n",
    "imgIds = coco.getImgIds(catIds=catIds)\n",
    "\n",
    "print(len(imgIds))"
   ]
  },
  {
   "cell_type": "code",
   "execution_count": 73,
   "metadata": {},
   "outputs": [
    {
     "data": {
      "text/plain": [
       "327766"
      ]
     },
     "execution_count": 73,
     "metadata": {},
     "output_type": "execute_result"
    }
   ],
   "source": [
    "imgIds[20]"
   ]
  },
  {
   "cell_type": "code",
   "execution_count": 74,
   "metadata": {},
   "outputs": [],
   "source": [
    "im = coco.loadImgs(327766)[0]\n",
    "ann = coco.loadAnns(coco.getAnnIds(imgIds=im['id'], catIds=catIds, iscrowd=None))"
   ]
  },
  {
   "cell_type": "code",
   "execution_count": 75,
   "metadata": {},
   "outputs": [
    {
     "name": "stdout",
     "output_type": "stream",
     "text": [
      "{'coco_url': 'http://images.cocodataset.org/train2017/000000327766.jpg',\n",
      " 'date_captured': '2013-11-18 20:31:20',\n",
      " 'file_name': '000000327766.jpg',\n",
      " 'flickr_url': 'http://farm7.staticflickr.com/6045/5910385992_399d1edb03_z.jpg',\n",
      " 'height': 333,\n",
      " 'id': 327766,\n",
      " 'license': 5,\n",
      " 'width': 250}\n"
     ]
    },
    {
     "data": {
      "text/plain": [
       "[{'segmentation': [[3.29,\n",
       "    0.0,\n",
       "    123.33,\n",
       "    4.11,\n",
       "    249.13,\n",
       "    49.33,\n",
       "    249.96,\n",
       "    333.0,\n",
       "    0.0,\n",
       "    333.0]],\n",
       "  'area': 78922.16985,\n",
       "  'iscrowd': 0,\n",
       "  'image_id': 327766,\n",
       "  'bbox': [0.0, 0.0, 249.96, 333.0],\n",
       "  'category_id': 8,\n",
       "  'id': 1797638}]"
      ]
     },
     "execution_count": 75,
     "metadata": {},
     "output_type": "execute_result"
    }
   ],
   "source": [
    "pprint(im)\n",
    "ann"
   ]
  }
 ],
 "metadata": {
  "kernelspec": {
   "display_name": ".venv",
   "language": "python",
   "name": "python3"
  },
  "language_info": {
   "codemirror_mode": {
    "name": "ipython",
    "version": 3
   },
   "file_extension": ".py",
   "mimetype": "text/x-python",
   "name": "python",
   "nbconvert_exporter": "python",
   "pygments_lexer": "ipython3",
   "version": "3.10.12"
  }
 },
 "nbformat": 4,
 "nbformat_minor": 2
}
