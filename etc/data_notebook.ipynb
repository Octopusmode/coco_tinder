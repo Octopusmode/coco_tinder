{
 "cells": [
  {
   "cell_type": "markdown",
   "metadata": {},
   "source": [
    "# COCO2017"
   ]
  },
  {
   "cell_type": "code",
   "execution_count": 2,
   "metadata": {},
   "outputs": [],
   "source": [
    "import matplotlib\n",
    "matplotlib.use(\"module://ipympl.backend_nbagg\")\n",
    "\n",
    "DATA_DIR = \"/mnt/x/dataset/coco2017\"\n",
    "EXPORT_DIR = \"/mnt/x/dataset/coco_trucks\"\n",
    "\n",
    "safe_trigger = True"
   ]
  },
  {
   "cell_type": "code",
   "execution_count": 3,
   "metadata": {},
   "outputs": [
    {
     "name": "stdout",
     "output_type": "stream",
     "text": [
      "Migrating database to v0.23.7\n"
     ]
    }
   ],
   "source": [
    "import fiftyone as fo\n",
    "import fiftyone.zoo as foz\n",
    "from fiftyone import ViewField as F"
   ]
  },
  {
   "cell_type": "code",
   "execution_count": null,
   "metadata": {},
   "outputs": [],
   "source": [
    "if not safe_trigger:\n",
    "    datset = foz.load_zoo_dataset(\n",
    "        \"coco-2017\",\n",
    "        splits=[\"train\", \"validation\"],\n",
    "        dataset_dir=DATA_DIR,\n",
    "    )\n",
    "\n",
    "safe_trigger = True"
   ]
  },
  {
   "cell_type": "code",
   "execution_count": 20,
   "metadata": {},
   "outputs": [],
   "source": [
    "# Делаем view на датасет только для инстансов класса \"truck\", \"van\"\n",
    "target_classes = [\"truck\"]\n",
    "view = datset.filter_labels(\"ground_truth\", F(\"label\").is_in(target_classes))"
   ]
  },
  {
   "cell_type": "code",
   "execution_count": 16,
   "metadata": {},
   "outputs": [
    {
     "data": {
      "text/html": [
       "\n",
       "        <iframe\n",
       "            width=\"100%\"\n",
       "            height=\"800\"\n",
       "            src=\"http://localhost:5151/?notebook=True&subscription=7e0ee84f-0841-4fe2-814f-a694e0212350\"\n",
       "            frameborder=\"0\"\n",
       "            allowfullscreen\n",
       "            \n",
       "        ></iframe>\n",
       "        "
      ],
      "text/plain": [
       "<IPython.lib.display.IFrame at 0x7f1b9baf9b50>"
      ]
     },
     "metadata": {},
     "output_type": "display_data"
    }
   ],
   "source": [
    "session = fo.launch_app(view=view)"
   ]
  },
  {
   "cell_type": "code",
   "execution_count": 4,
   "metadata": {},
   "outputs": [],
   "source": [
    "%matplotlib inline\n",
    "from pycocotools.coco import COCO\n",
    "import numpy as np\n",
    "import skimage.io as io\n",
    "import matplotlib.pyplot as plt\n",
    "from pprint import pprint"
   ]
  },
  {
   "cell_type": "code",
   "execution_count": 5,
   "metadata": {},
   "outputs": [],
   "source": [
    "dataDir = \"/mnt/x/dataset/coco2017\"\n",
    "dataType = \"train2017\"\n",
    "annFile = \"{}/raw/instances_{}.json\".format(dataDir, dataType)"
   ]
  },
  {
   "cell_type": "code",
   "execution_count": 6,
   "metadata": {},
   "outputs": [
    {
     "name": "stdout",
     "output_type": "stream",
     "text": [
      "loading annotations into memory...\n",
      "Done (t=9.67s)\n",
      "creating index...\n",
      "index created!\n"
     ]
    }
   ],
   "source": [
    "coco=COCO(annFile)"
   ]
  },
  {
   "cell_type": "code",
   "execution_count": 7,
   "metadata": {},
   "outputs": [
    {
     "name": "stdout",
     "output_type": "stream",
     "text": [
      "{'area': 2765.1486500000005,\n",
      " 'bbox': [199.84, 200.46, 77.71, 70.88],\n",
      " 'category_id': 58,\n",
      " 'id': 156,\n",
      " 'image_id': 558840,\n",
      " 'iscrowd': 0,\n",
      " 'segmentation': [[239.97,\n",
      "                   260.24,\n",
      "                   222.04,\n",
      "                   270.49,\n",
      "                   199.84,\n",
      "                   253.41,\n",
      "                   213.5,\n",
      "                   227.79,\n",
      "                   259.62,\n",
      "                   200.46,\n",
      "                   274.13,\n",
      "                   202.17,\n",
      "                   277.55,\n",
      "                   210.71,\n",
      "                   249.37,\n",
      "                   253.41,\n",
      "                   237.41,\n",
      "                   264.51,\n",
      "                   242.54,\n",
      "                   261.95,\n",
      "                   228.87,\n",
      "                   271.34]]}\n"
     ]
    }
   ],
   "source": [
    "from pprint import pprint\n",
    "\n",
    "for key in coco.anns.keys():\n",
    "    pprint(coco.anns[key])\n",
    "    break"
   ]
  },
  {
   "cell_type": "code",
   "execution_count": 8,
   "metadata": {},
   "outputs": [
    {
     "name": "stdout",
     "output_type": "stream",
     "text": [
      "6127\n"
     ]
    }
   ],
   "source": [
    "catIds = coco.getCatIds(catNms=[\"truck\"])\n",
    "imgIds = coco.getImgIds(catIds=catIds)\n",
    "\n",
    "print(len(imgIds))"
   ]
  },
  {
   "cell_type": "code",
   "execution_count": 16,
   "metadata": {},
   "outputs": [
    {
     "data": {
      "text/plain": [
       "327895"
      ]
     },
     "execution_count": 16,
     "metadata": {},
     "output_type": "execute_result"
    }
   ],
   "source": [
    "imgIds[50]"
   ]
  },
  {
   "cell_type": "code",
   "execution_count": 30,
   "metadata": {},
   "outputs": [
    {
     "name": "stdout",
     "output_type": "stream",
     "text": [
      "8\n"
     ]
    }
   ],
   "source": [
    "im = coco.loadImgs(imgIds[51])[0]\n",
    "print(len(im))\n",
    "ann = coco.loadAnns(coco.getAnnIds(imgIds=im['id'], catIds=catIds, iscrowd=None))"
   ]
  },
  {
   "cell_type": "code",
   "execution_count": 31,
   "metadata": {},
   "outputs": [
    {
     "name": "stdout",
     "output_type": "stream",
     "text": [
      "{'coco_url': 'http://images.cocodataset.org/train2017/000000098523.jpg',\n",
      " 'date_captured': '2013-11-16 03:51:43',\n",
      " 'file_name': '000000098523.jpg',\n",
      " 'flickr_url': 'http://farm3.staticflickr.com/2090/5702319075_218fd75fa8_z.jpg',\n",
      " 'height': 480,\n",
      " 'id': 98523,\n",
      " 'license': 3,\n",
      " 'width': 640}\n"
     ]
    },
    {
     "data": {
      "text/plain": [
       "[{'segmentation': [[383.21,\n",
       "    274.47,\n",
       "    513.83,\n",
       "    272.94,\n",
       "    512.3,\n",
       "    232.63,\n",
       "    514.34,\n",
       "    225.48,\n",
       "    539.34,\n",
       "    223.44,\n",
       "    568.42,\n",
       "    223.44,\n",
       "    591.89,\n",
       "    225.48,\n",
       "    598.01,\n",
       "    240.28,\n",
       "    603.63,\n",
       "    260.18,\n",
       "    605.67,\n",
       "    266.81,\n",
       "    605.67,\n",
       "    276.0,\n",
       "    605.16,\n",
       "    284.67,\n",
       "    602.61,\n",
       "    292.32,\n",
       "    594.44,\n",
       "    297.43,\n",
       "    580.67,\n",
       "    297.94,\n",
       "    574.54,\n",
       "    310.69,\n",
       "    555.15,\n",
       "    312.22,\n",
       "    549.03,\n",
       "    308.14,\n",
       "    540.36,\n",
       "    303.55,\n",
       "    530.15,\n",
       "    301.0,\n",
       "    458.21,\n",
       "    295.39,\n",
       "    454.64,\n",
       "    298.96,\n",
       "    453.62,\n",
       "    304.06,\n",
       "    451.58,\n",
       "    310.69,\n",
       "    442.39,\n",
       "    314.77,\n",
       "    419.94,\n",
       "    308.14,\n",
       "    416.37,\n",
       "    303.04,\n",
       "    412.8,\n",
       "    295.9,\n",
       "    408.72,\n",
       "    291.81,\n",
       "    394.94,\n",
       "    289.77,\n",
       "    386.78,\n",
       "    289.26,\n",
       "    386.78,\n",
       "    297.94,\n",
       "    376.06,\n",
       "    295.9,\n",
       "    379.12,\n",
       "    292.32,\n",
       "    380.14,\n",
       "    285.69,\n",
       "    381.17,\n",
       "    277.53,\n",
       "    381.68,\n",
       "    274.98]],\n",
       "  'area': 10528.801549999995,\n",
       "  'iscrowd': 0,\n",
       "  'image_id': 98523,\n",
       "  'bbox': [376.06, 223.44, 229.61, 91.33],\n",
       "  'category_id': 8,\n",
       "  'id': 399788},\n",
       " {'segmentation': [[0.83,\n",
       "    235.12,\n",
       "    21.28,\n",
       "    234.6,\n",
       "    31.78,\n",
       "    236.17,\n",
       "    31.25,\n",
       "    256.37,\n",
       "    31.25,\n",
       "    262.4,\n",
       "    30.2,\n",
       "    266.07,\n",
       "    26.79,\n",
       "    269.74,\n",
       "    22.86,\n",
       "    272.89,\n",
       "    13.15,\n",
       "    271.05,\n",
       "    6.33,\n",
       "    273.68,\n",
       "    0.0,\n",
       "    275.51]],\n",
       "  'area': 1137.9972500000003,\n",
       "  'iscrowd': 0,\n",
       "  'image_id': 98523,\n",
       "  'bbox': [0.0, 234.6, 31.78, 40.91],\n",
       "  'category_id': 8,\n",
       "  'id': 1372037},\n",
       " {'segmentation': [[31.33,\n",
       "    272.15,\n",
       "    31.33,\n",
       "    251.8,\n",
       "    29.43,\n",
       "    249.9,\n",
       "    30.38,\n",
       "    247.43,\n",
       "    34.37,\n",
       "    246.29,\n",
       "    57.38,\n",
       "    244.58,\n",
       "    60.42,\n",
       "    244.77,\n",
       "    67.27,\n",
       "    253.13,\n",
       "    74.49,\n",
       "    253.52,\n",
       "    76.77,\n",
       "    240.21,\n",
       "    219.38,\n",
       "    240.59,\n",
       "    218.43,\n",
       "    269.49,\n",
       "    196.75,\n",
       "    270.82,\n",
       "    193.9,\n",
       "    271.2,\n",
       "    188.0,\n",
       "    275.76,\n",
       "    180.02,\n",
       "    275.95,\n",
       "    177.55,\n",
       "    272.53,\n",
       "    175.45,\n",
       "    275.38,\n",
       "    165.0,\n",
       "    276.14,\n",
       "    162.14,\n",
       "    272.34,\n",
       "    158.15,\n",
       "    267.78,\n",
       "    155.87,\n",
       "    265.68,\n",
       "    123.55,\n",
       "    267.21,\n",
       "    112.71,\n",
       "    262.64,\n",
       "    109.48,\n",
       "    273.86,\n",
       "    102.06,\n",
       "    273.48,\n",
       "    98.45,\n",
       "    275.95,\n",
       "    90.84,\n",
       "    276.52,\n",
       "    89.51,\n",
       "    275.95,\n",
       "    88.37,\n",
       "    274.24,\n",
       "    63.08,\n",
       "    274.05,\n",
       "    58.71,\n",
       "    276.33,\n",
       "    50.72,\n",
       "    276.52,\n",
       "    45.4,\n",
       "    274.05,\n",
       "    32.28,\n",
       "    273.86]],\n",
       "  'area': 5592.1349,\n",
       "  'iscrowd': 0,\n",
       "  'image_id': 98523,\n",
       "  'bbox': [29.43, 240.21, 189.95, 36.31],\n",
       "  'category_id': 8,\n",
       "  'id': 1799637}]"
      ]
     },
     "execution_count": 31,
     "metadata": {},
     "output_type": "execute_result"
    }
   ],
   "source": [
    "pprint(im)\n",
    "ann"
   ]
  },
  {
   "cell_type": "code",
   "execution_count": 32,
   "metadata": {},
   "outputs": [
    {
     "data": {
      "text/plain": [
       "[399788, 1372037, 1799637]"
      ]
     },
     "execution_count": 32,
     "metadata": {},
     "output_type": "execute_result"
    }
   ],
   "source": [
    "annIds = coco.getAnnIds(imgIds=im[\"id\"], catIds=catIds, iscrowd=None)\n",
    "\n",
    "annIds"
   ]
  },
  {
   "cell_type": "code",
   "execution_count": 33,
   "metadata": {},
   "outputs": [],
   "source": [
    "# Извлечь маску сегментации для объекта\n",
    "anns = coco.loadAnns(annIds)"
   ]
  },
  {
   "cell_type": "code",
   "execution_count": 34,
   "metadata": {},
   "outputs": [
    {
     "data": {
      "text/plain": [
       "3"
      ]
     },
     "execution_count": 34,
     "metadata": {},
     "output_type": "execute_result"
    }
   ],
   "source": [
    "len(anns)"
   ]
  },
  {
   "cell_type": "code",
   "execution_count": 37,
   "metadata": {},
   "outputs": [
    {
     "data": {
      "text/plain": [
       "[[0.83,\n",
       "  235.12,\n",
       "  21.28,\n",
       "  234.6,\n",
       "  31.78,\n",
       "  236.17,\n",
       "  31.25,\n",
       "  256.37,\n",
       "  31.25,\n",
       "  262.4,\n",
       "  30.2,\n",
       "  266.07,\n",
       "  26.79,\n",
       "  269.74,\n",
       "  22.86,\n",
       "  272.89,\n",
       "  13.15,\n",
       "  271.05,\n",
       "  6.33,\n",
       "  273.68,\n",
       "  0.0,\n",
       "  275.51]]"
      ]
     },
     "execution_count": 37,
     "metadata": {},
     "output_type": "execute_result"
    }
   ],
   "source": [
    "anns[1]['segmentation']"
   ]
  }
 ],
 "metadata": {
  "kernelspec": {
   "display_name": ".venv",
   "language": "python",
   "name": "python3"
  },
  "language_info": {
   "codemirror_mode": {
    "name": "ipython",
    "version": 3
   },
   "file_extension": ".py",
   "mimetype": "text/x-python",
   "name": "python",
   "nbconvert_exporter": "python",
   "pygments_lexer": "ipython3",
   "version": "3.10.12"
  }
 },
 "nbformat": 4,
 "nbformat_minor": 2
}
